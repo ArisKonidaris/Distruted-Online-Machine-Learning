{
 "cells": [
  {
   "cell_type": "code",
   "execution_count": 1,
   "metadata": {
    "collapsed": true
   },
   "outputs": [],
   "source": [
    "import numpy as np\n",
    "import pandas as pd\n",
    "import json\n",
    "import sys\n",
    "from shutil import copyfile\n",
    "from pprint import pprint\n",
    "import os"
   ]
  },
  {
   "cell_type": "code",
   "execution_count": 10,
   "metadata": {},
   "outputs": [
    {
     "name": "stdout",
     "output_type": "stream",
     "text": [
      "60\n",
      "[[7.00e+07 6.40e+01 4.00e+00]\n",
      " [7.00e+07 1.28e+02 4.00e+00]\n",
      " [7.00e+07 1.92e+02 4.00e+00]\n",
      " [8.00e+07 6.40e+01 4.00e+00]\n",
      " [8.00e+07 1.28e+02 4.00e+00]\n",
      " [8.00e+07 1.92e+02 4.00e+00]\n",
      " [9.00e+07 6.40e+01 4.00e+00]\n",
      " [9.00e+07 1.28e+02 4.00e+00]\n",
      " [9.00e+07 1.92e+02 4.00e+00]\n",
      " [1.00e+08 6.40e+01 4.00e+00]\n",
      " [1.00e+08 1.28e+02 4.00e+00]\n",
      " [1.00e+08 1.92e+02 4.00e+00]\n",
      " [1.10e+08 6.40e+01 4.00e+00]\n",
      " [1.10e+08 1.28e+02 4.00e+00]\n",
      " [1.10e+08 1.92e+02 4.00e+00]\n",
      " [7.00e+07 6.40e+01 8.00e+00]\n",
      " [7.00e+07 1.28e+02 8.00e+00]\n",
      " [7.00e+07 1.92e+02 8.00e+00]\n",
      " [8.00e+07 6.40e+01 8.00e+00]\n",
      " [8.00e+07 1.28e+02 8.00e+00]\n",
      " [8.00e+07 1.92e+02 8.00e+00]\n",
      " [9.00e+07 6.40e+01 8.00e+00]\n",
      " [9.00e+07 1.28e+02 8.00e+00]\n",
      " [9.00e+07 1.92e+02 8.00e+00]\n",
      " [1.00e+08 6.40e+01 8.00e+00]\n",
      " [1.00e+08 1.28e+02 8.00e+00]\n",
      " [1.00e+08 1.92e+02 8.00e+00]\n",
      " [1.10e+08 6.40e+01 8.00e+00]\n",
      " [1.10e+08 1.28e+02 8.00e+00]\n",
      " [1.10e+08 1.92e+02 8.00e+00]\n",
      " [7.00e+07 6.40e+01 1.60e+01]\n",
      " [7.00e+07 1.28e+02 1.60e+01]\n",
      " [7.00e+07 1.92e+02 1.60e+01]\n",
      " [8.00e+07 6.40e+01 1.60e+01]\n",
      " [8.00e+07 1.28e+02 1.60e+01]\n",
      " [8.00e+07 1.92e+02 1.60e+01]\n",
      " [9.00e+07 6.40e+01 1.60e+01]\n",
      " [9.00e+07 1.28e+02 1.60e+01]\n",
      " [9.00e+07 1.92e+02 1.60e+01]\n",
      " [1.00e+08 6.40e+01 1.60e+01]\n",
      " [1.00e+08 1.28e+02 1.60e+01]\n",
      " [1.00e+08 1.92e+02 1.60e+01]\n",
      " [1.10e+08 6.40e+01 1.60e+01]\n",
      " [1.10e+08 1.28e+02 1.60e+01]\n",
      " [1.10e+08 1.92e+02 1.60e+01]\n",
      " [7.00e+07 6.40e+01 3.20e+01]\n",
      " [7.00e+07 1.28e+02 3.20e+01]\n",
      " [7.00e+07 1.92e+02 3.20e+01]\n",
      " [8.00e+07 6.40e+01 3.20e+01]\n",
      " [8.00e+07 1.28e+02 3.20e+01]\n",
      " [8.00e+07 1.92e+02 3.20e+01]\n",
      " [9.00e+07 6.40e+01 3.20e+01]\n",
      " [9.00e+07 1.28e+02 3.20e+01]\n",
      " [9.00e+07 1.92e+02 3.20e+01]\n",
      " [1.00e+08 6.40e+01 3.20e+01]\n",
      " [1.00e+08 1.28e+02 3.20e+01]\n",
      " [1.00e+08 1.92e+02 3.20e+01]\n",
      " [1.10e+08 6.40e+01 3.20e+01]\n",
      " [1.10e+08 1.28e+02 3.20e+01]\n",
      " [1.10e+08 1.92e+02 3.20e+01]]\n",
      "(60, 3)\n"
     ]
    }
   ],
   "source": [
    "# Thresholds for the experiments\n",
    "thresholds = np.linspace(70000000,110000000,5)\n",
    "\n",
    "# Batch Sizes for the experiments\n",
    "batchSizes = np.array([64, 128, 192])\n",
    "\n",
    "# Number of sites\n",
    "sites = np.array([4, 8, 16, 32])\n",
    "\n",
    "# Number of actual jobs\n",
    "jobs = np.shape(thresholds)[0]*np.shape(batchSizes)[0]*np.shape(sites)[0]\n",
    "\n",
    "mesh = np.array(np.meshgrid(thresholds, batchSizes, sites)).T.reshape(jobs,3)\n",
    "print(jobs)\n",
    "print(mesh)\n",
    "print(np.shape(mesh))"
   ]
  },
  {
   "cell_type": "code",
   "execution_count": null,
   "metadata": {
    "collapsed": true
   },
   "outputs": [],
   "source": []
  }
 ],
 "metadata": {
  "kernelspec": {
   "display_name": "Python 3",
   "language": "python",
   "name": "python3"
  },
  "language_info": {
   "codemirror_mode": {
    "name": "ipython",
    "version": 3
   },
   "file_extension": ".py",
   "mimetype": "text/x-python",
   "name": "python",
   "nbconvert_exporter": "python",
   "pygments_lexer": "ipython3",
   "version": "3.6.3"
  }
 },
 "nbformat": 4,
 "nbformat_minor": 2
}
