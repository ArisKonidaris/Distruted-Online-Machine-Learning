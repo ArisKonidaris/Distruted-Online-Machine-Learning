{
 "cells": [
  {
   "cell_type": "code",
   "execution_count": 19,
   "metadata": {
    "collapsed": true
   },
   "outputs": [],
   "source": [
    "import numpy as np\n",
    "import pandas as pd\n",
    "import json\n",
    "import sys\n",
    "from shutil import copyfile\n",
    "from pprint import pprint\n",
    "import os"
   ]
  },
  {
   "cell_type": "code",
   "execution_count": 20,
   "metadata": {
    "collapsed": true
   },
   "outputs": [],
   "source": [
    "# Full Path of where the experiment results are to be stored.\n",
    "ExpsPath = \"/home/aris/Desktop/Measurements/\"\n",
    "\n",
    "# Default JSON file\n",
    "defaultJsonPath = \"/home/aris/Desktop/Diplwmatikh/Starting_Cpp_Developing/Default_DLIB_inputs_Exp2.json\"\n",
    "\n",
    "# Default JSON file\n",
    "defaultPBSPath = \"/home/aris/Desktop/Diplwmatikh/Starting_Cpp_Developing/Default_Job_Exp2.pbs\"\n",
    "\n",
    "# Thresholds for the experiments\n",
    "thresholds = np.array([0.0008, 0.008, 0.08])\n",
    "\n",
    "# Batch Sizes for the experiments\n",
    "batchSizes = np.array([64, 128, 192])\n",
    "\n",
    "# Number of sites\n",
    "sites = np.array([4, 8, 16, 32, 64])\n",
    "\n",
    "# Rebalance Multipliers\n",
    "reb_mul = np.array([1.0, 5.0, 10., 50.])\n",
    "\n",
    "# Number of actual jobs\n",
    "jobs = np.shape(thresholds)[0]*np.shape(batchSizes)[0]*np.shape(sites)[0]*np.shape(reb_mul)[0]\n",
    "\n",
    "mesh = np.array(np.meshgrid(thresholds, batchSizes, reb_mul, sites)).T.reshape(jobs,4)\n",
    "# print(jobs)\n",
    "# print(mesh)\n",
    "# print(np.shape(mesh))"
   ]
  },
  {
   "cell_type": "code",
   "execution_count": 21,
   "metadata": {},
   "outputs": [],
   "source": [
    "### Creating the JSON and PBS files for all the jobs. ###\n",
    "\n",
    "for i in range(jobs):\n",
    "    \n",
    "    # Creating the folder of the experiment.\n",
    "    exp_path = ExpsPath+\"Exp2_\"+str(i)\n",
    "    os.system(\"mkdir \"+exp_path)\n",
    "    \n",
    "    JsonFileName = exp_path+\"/Config_Exp2_\"+str(i)+\".json\"\n",
    "    copyfile(defaultJsonPath, JsonFileName)\n",
    "    \n",
    "    with open(JsonFileName, 'r+', encoding='utf-8') as f:\n",
    "        data = json.load(f)\n",
    "\n",
    "        data['simulations']['Communication_File'] = exp_path+\"/Exp2_\"+str(i)+\"_Comm.csv\"\n",
    "        data['simulations']['Differential_Communication_File'] = exp_path+\"/Exp2_\"+str(i)+\"_Diff_Comm.csv\"\n",
    "        data['gm_network_net1']['number_of_local_nodes'] = int(mesh[i,3])\n",
    "        data['dist_algo_net1']['threshold'] = float(mesh[i,0])\n",
    "        data['dist_algo_net1']['batch_size'] = int(mesh[i,1])\n",
    "        data['dist_algo_net1']['reb_mult'] = float(mesh[i,2])\n",
    "\n",
    "        f.seek(0)\n",
    "        json.dump(data,f)\n",
    "        f.truncate()\n",
    "        \n",
    "    PBSFileName = exp_path+\"/Job_Exp2_\"+str(i)+\".pbs\"\n",
    "    copyfile(defaultPBSPath, PBSFileName)\n",
    "        \n",
    "    lines = open(PBSFileName, 'r', encoding='utf-8').readlines()\n",
    "    lastline = lines[-1]\n",
    "    newLastLine = lastline.split(\" \")[0]+\" \"+\"\\\"\"+JsonFileName+\"\\\"\"\n",
    "    lines[1] = \"#PBS -N exp10000\"+str(i)+\"\\n\"\n",
    "    lines[4] = \"#PBS -d \"+exp_path+\"\\n\"\n",
    "    del lines[-1]\n",
    "    open(PBSFileName, 'w', encoding='utf-8').writelines(lines)\n",
    "    open(PBSFileName, 'a', encoding='utf-8').writelines(newLastLine)"
   ]
  },
  {
   "cell_type": "code",
   "execution_count": null,
   "metadata": {
    "collapsed": true
   },
   "outputs": [],
   "source": [
    "### Execute the jobs ###\n",
    "\n",
    "# for i in range(jobs):\n",
    "#     PBSFileName = newPBSPath+\"Job_Exp1_\"+str(i)+\".pbs\"\n",
    "#     os.system(\"qsub \"+str(PBSFileName))"
   ]
  }
 ],
 "metadata": {
  "kernelspec": {
   "display_name": "Python 3",
   "language": "python",
   "name": "python3"
  },
  "language_info": {
   "codemirror_mode": {
    "name": "ipython",
    "version": 3
   },
   "file_extension": ".py",
   "mimetype": "text/x-python",
   "name": "python",
   "nbconvert_exporter": "python",
   "pygments_lexer": "ipython3",
   "version": "3.6.3"
  }
 },
 "nbformat": 4,
 "nbformat_minor": 2
}
